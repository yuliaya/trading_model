{
 "cells": [
  {
   "cell_type": "code",
   "execution_count": 1,
   "metadata": {
    "collapsed": true
   },
   "outputs": [],
   "source": [
    "import pandas as pd\n",
    "import os\n",
    "import datetime\n",
    "import re\n",
    "import numpy as np\n",
    "from matplotlib import pyplot\n",
    "import pyflux as pf\n",
    "import warnings\n",
    "import statsmodels.api as sm\n",
    "from math import sqrt\n",
    "from itertools import permutations"
   ]
  },
  {
   "cell_type": "code",
   "execution_count": 2,
   "metadata": {},
   "outputs": [],
   "source": [
    "brand = 'Saint Laurent'\n",
    "directory = 'SL_Sac_de_Jour_small'\n",
    "os.chdir(directory)"
   ]
  },
  {
   "cell_type": "code",
   "execution_count": 22,
   "metadata": {
    "collapsed": true
   },
   "outputs": [],
   "source": [
    "fabrics = {\n",
    "    'Chanel': ['Lambskin Leather', 'Leather', 'Lambskin', 'Patent Leather', 'Caviar Leather','lambskin',\n",
    "               'Calfskin Leather', 'Caviar', 'leather', 'caviar', 'Calfskin', 'lambskin leather', 'Lambskin leather',\n",
    "               'caviar leather', 'calfskin', 'Caviar leather', 'LEATHER', 'patent leather', 'Classic Flap', \n",
    "               'Patent', 'Suede Leather', 'Goat Skin Leather', 'Calf Leather', 'CAVIAR LEATHER', 'Lamb leather', \n",
    "               'Lamskin', 'Quilted', 'Patent leather', 'Lamb Skin', 'CAVIAR', 'LAMBSKIN', 'Cavier Leather',\n",
    "               'Suede', 'Goatskin', 'Iridescent Caviar'],\n",
    "    'Fendi': ['Leather', 'Calfskin Leather', 'leather', 'Calf Leather', 'LEATHER'],\n",
    "    'Gucci': ['Leather', 'Calfskin Leather', 'leather', 'Calfskin', 'Sylvie', 'calfskin', 'Calf Leather'],\n",
    "    'Saint Laurent': ['Leather', 'Calfskin Leather', 'leather', 'Grained Leather', 'Sac de Jour', 'Calfskin',\n",
    "                      'Grained leather', 'Smooth Leather', 'Calf Leather', 'Grain Leather']\n",
    "}\n",
    "\n",
    "sizes = {\n",
    "    'Chanel': (10, 3, 6.3, 5),\n",
    "    'LV': (12.6, 9.4, 6, 7),\n",
    "    'Saint Laurent': (12.5, 9.8, 6.4, 7)\n",
    "}"
   ]
  },
  {
   "cell_type": "code",
   "execution_count": 4,
   "metadata": {},
   "outputs": [],
   "source": [
    "df = pd.DataFrame()\n",
    "for file in [file for file in os.listdir() if file.endswith('.csv')]:\n",
    "    MONTH, DAY = int(re.search('\\_(\\d+)\\_(\\d+)', file)[1]), int(re.search('\\_(\\d+)\\_(\\d+)', file)[2])\n",
    "    df1 = pd.read_csv(file)\n",
    "    df1['sc_date'] = datetime.date(year=2019, month=MONTH, day=DAY)\n",
    "    df = pd.DataFrame(df.append(df1))"
   ]
  },
  {
   "cell_type": "markdown",
   "metadata": {},
   "source": [
    "# clean dataset"
   ]
  },
  {
   "cell_type": "code",
   "execution_count": 9,
   "metadata": {
    "collapsed": true
   },
   "outputs": [],
   "source": [
    "df = df[df['bags_brand'] == brand]"
   ]
  },
  {
   "cell_type": "code",
   "execution_count": 10,
   "metadata": {},
   "outputs": [],
   "source": [
    "if brand in fabrics:\n",
    "    df = df[df['bags_fabric'].isin(fabrics[brand])]"
   ]
  },
  {
   "cell_type": "code",
   "execution_count": 11,
   "metadata": {
    "collapsed": true
   },
   "outputs": [],
   "source": [
    "def extract_price(text_string):\n",
    "    if type(text_string) == str:\n",
    "        try:\n",
    "            digits = re.search('\\$(.*)\\.\\d{2}$', text_string)[1]\n",
    "            digits = ''.join(digits.split(','))\n",
    "            return int(digits)\n",
    "        except:\n",
    "            return 'Error'\n",
    "    return"
   ]
  },
  {
   "cell_type": "code",
   "execution_count": 12,
   "metadata": {
    "collapsed": true
   },
   "outputs": [],
   "source": [
    "df['bags_price_refined'] = df['bags_price'].map(lambda x: extract_price(x))\n",
    "df['sold_price_refined'] = df['bags_sold_for'].map(lambda x: extract_price(x))\n",
    "df['retail_price_refined'] = df['bags_retail_price'].map(lambda x: extract_price(x))"
   ]
  },
  {
   "cell_type": "code",
   "execution_count": 13,
   "metadata": {
    "collapsed": true
   },
   "outputs": [],
   "source": [
    "def bag_id(bag_dict):\n",
    "    if type(bag_dict['bags_on_sale']) == str:\n",
    "        res = re.search('\\/(\\d{5,})\\/', bag_dict['bags_on_sale'])\n",
    "        if res:\n",
    "            return res[1]\n",
    "    elif type(bag_dict['bags_sold']) == str:\n",
    "        res = re.search('\\/(\\d{5,})\\/', bag_dict['bags_sold'])\n",
    "        if res:\n",
    "            return res[1]\n",
    "    else:\n",
    "        return"
   ]
  },
  {
   "cell_type": "code",
   "execution_count": 14,
   "metadata": {
    "collapsed": true
   },
   "outputs": [],
   "source": [
    "df['id'] = df.apply(lambda x: bag_id(x), axis = 1)"
   ]
  },
  {
   "cell_type": "code",
   "execution_count": 15,
   "metadata": {
    "collapsed": true
   },
   "outputs": [],
   "source": [
    "def popular(text):\n",
    "    number = str(text).split(' ')[0]\n",
    "    if number.isdigit():\n",
    "        return number\n",
    "    else:\n",
    "        return 0"
   ]
  },
  {
   "cell_type": "code",
   "execution_count": 16,
   "metadata": {},
   "outputs": [],
   "source": [
    "df['likes'] = df['bags_popular'].map(popular)"
   ]
  },
  {
   "cell_type": "code",
   "execution_count": 17,
   "metadata": {},
   "outputs": [],
   "source": [
    "df['condition'] = df['bags_condition'].map({'New with tags': 3, 'Like new': 2, 'Gently used': 1})"
   ]
  },
  {
   "cell_type": "code",
   "execution_count": 18,
   "metadata": {
    "collapsed": true
   },
   "outputs": [],
   "source": [
    "def extract_size(text):\n",
    "    try:\n",
    "        l = float(re.search('(\\d*\\.*\\d*)\"L', text)[1])\n",
    "        w = float(re.search('(\\d*\\.*\\d*)\"W', text)[1])\n",
    "        h = float(re.search('(\\d*\\.*\\d*)\"H', text)[1])\n",
    "        return l, w, h\n",
    "    except:\n",
    "        return (100, 100, 100)"
   ]
  },
  {
   "cell_type": "code",
   "execution_count": 19,
   "metadata": {
    "collapsed": true
   },
   "outputs": [],
   "source": [
    "def vector_distance(x, y):\n",
    "    if len(x) == len(y):\n",
    "        return sqrt(sum((x[i] - y[i])**2 for i in range(len(x))))\n",
    "    else:\n",
    "        raise Exception('Different dimension of vectors')"
   ]
  },
  {
   "cell_type": "code",
   "execution_count": 20,
   "metadata": {
    "collapsed": true
   },
   "outputs": [],
   "source": [
    "def correct_size(text):\n",
    "    l, w, h, diff = sizes[brand]\n",
    "    L, W, H = extract_size(text)\n",
    "    return min([vector_distance((L,W,H), c) for c in permutations([l, w, h])]) < diff"
   ]
  },
  {
   "cell_type": "code",
   "execution_count": 25,
   "metadata": {},
   "outputs": [],
   "source": [
    "#filter out incorrect sizes\n",
    "if brand in sizes:\n",
    "    df = df[df['bags_size'].map(correct_size)]"
   ]
  },
  {
   "cell_type": "code",
   "execution_count": 26,
   "metadata": {},
   "outputs": [],
   "source": [
    "df['id'] = df['id'].astype(int)\n",
    "df['likes'] = df['likes'].astype(int)"
   ]
  },
  {
   "cell_type": "code",
   "execution_count": 27,
   "metadata": {
    "collapsed": true
   },
   "outputs": [],
   "source": [
    "export_columns = ['bags_brand', 'sc_date', 'bags_color', 'bags_condition', 'bags_fabric', 'bags_price_refined',\n",
    "                 'sold_price_refined', 'retail_price_refined', 'id', 'likes', 'condition']"
   ]
  },
  {
   "cell_type": "code",
   "execution_count": 28,
   "metadata": {},
   "outputs": [],
   "source": [
    "df.reset_index()[export_columns].to_pickle('%s_dataset.pkl' % brand)"
   ]
  },
  {
   "cell_type": "code",
   "execution_count": null,
   "metadata": {
    "collapsed": true
   },
   "outputs": [],
   "source": []
  }
 ],
 "metadata": {
  "kernelspec": {
   "display_name": "Python 3",
   "language": "python",
   "name": "python3"
  },
  "language_info": {
   "codemirror_mode": {
    "name": "ipython",
    "version": 3
   },
   "file_extension": ".py",
   "mimetype": "text/x-python",
   "name": "python",
   "nbconvert_exporter": "python",
   "pygments_lexer": "ipython3",
   "version": "3.6.3"
  }
 },
 "nbformat": 4,
 "nbformat_minor": 2
}

{
 "cells": [
  {
   "cell_type": "code",
   "execution_count": 1,
   "metadata": {},
   "outputs": [],
   "source": [
    "import pandas as pd\n",
    "import os\n",
    "import datetime\n",
    "import re\n",
    "import statsmodels.api as sm\n",
    "from math import sqrt\n",
    "from itertools import permutations"
   ]
  },
  {
   "cell_type": "code",
   "execution_count": 2,
   "metadata": {},
   "outputs": [],
   "source": [
    "brand = 'Louis Vuitton'\n",
    "directory = '/Users/yulia/Desktop/chanel/LV_Alma_Pm'\n",
    "os.chdir(directory)"
   ]
  },
  {
   "cell_type": "code",
   "execution_count": 3,
   "metadata": {},
   "outputs": [],
   "source": [
    "fabrics = {\n",
    "    'Chanel': [['lambskin', 'lamb', 'lamskin'], ['patent', 'vernis'], ['caviar', 'cavier'], ['calfskin', 'calf'], ['tweed'],\n",
    "               ['canvas'], ['velvet'], ['denim'], ['jersey'], ['suede'], ['goat skin', 'goatskin'], ['fabric'], ['python'],\n",
    "               ['cotton'], ['satin'], ['nylon'], ['ostrich'], ['snakeskin']],\n",
    "    'Fendi': [['calfskin', 'calf leather'], ['velvet'], ['python'], ['patent']],\n",
    "    'Gucci': [['calfskin', 'calf', 'calfakin'], ['velvet'], ['canvas'], ['jacquard'], ['velure']],\n",
    "    'Saint Laurent': [['calfskin', 'calf', 'calf-skin leather'], ['grained leather'], ['suede', 'suded'], ['crocodile', 'croc leather'],\n",
    "                     ['smooth'], ['patent'], ['lambskin']],\n",
    "    'Louis Vuitton': [['canvas'], ['epi leather', 'epi', 'epic'], ['patent leather', 'patent'], ['canvas leather'],\n",
    "                      ['vernis leather', 'vernis']]\n",
    "}\n",
    "\n",
    "sizes = {\n",
    "    'Chanel': {\n",
    "        'Medium': (10, 3, 6.3, 3)\n",
    "    },\n",
    "    'Louis Vuitton': {\n",
    "        'Pm': (12.6, 9.4, 6, 5)\n",
    "    },\n",
    "    'Saint Laurent': {\n",
    "        'Small': (12.5, 9.8, 6.4, 5)\n",
    "    },\n",
    "    'Gucci' : {\n",
    "        'Handle': (12.5, 8.5, 4.25, 4),\n",
    "        'Mini': (7.5, 5.5, 3, 4),\n",
    "        'Shoulder': (10, 6.75, 3, 4)\n",
    "    },\n",
    "    'Fendi': {\n",
    "        'Small': (5.2, 7.5, 3.5, 3),\n",
    "        'Medium': (7.3, 9.8, 4.3, 3)\n",
    "    }\n",
    "}"
   ]
  },
  {
   "cell_type": "code",
   "execution_count": 4,
   "metadata": {},
   "outputs": [
    {
     "name": "stderr",
     "output_type": "stream",
     "text": [
      "/opt/anaconda3/lib/python3.7/site-packages/pandas/core/frame.py:7123: FutureWarning: Sorting because non-concatenation axis is not aligned. A future version\n",
      "of pandas will change to not sort by default.\n",
      "\n",
      "To accept the future behavior, pass 'sort=False'.\n",
      "\n",
      "To retain the current behavior and silence the warning, pass 'sort=True'.\n",
      "\n",
      "  sort=sort,\n"
     ]
    }
   ],
   "source": [
    "df = pd.DataFrame()\n",
    "for file in [file for file in os.listdir() if file.endswith('.csv')]:\n",
    "    MONTH, DAY = int(re.search('\\_(\\d+)\\_(\\d+)', file)[1]), int(re.search('\\_(\\d+)\\_(\\d+)', file)[2])\n",
    "    df1 = pd.read_csv(file)\n",
    "    df1['sc_date'] = datetime.date(year=2019, month=MONTH, day=DAY)\n",
    "    df = pd.DataFrame(df.append(df1))"
   ]
  },
  {
   "cell_type": "markdown",
   "metadata": {},
   "source": [
    "# clean dataset"
   ]
  },
  {
   "cell_type": "code",
   "execution_count": 5,
   "metadata": {},
   "outputs": [],
   "source": [
    "df = df[df['bags_brand'] == brand]\n",
    "size_before = df.shape[0]"
   ]
  },
  {
   "cell_type": "code",
   "execution_count": 6,
   "metadata": {},
   "outputs": [],
   "source": [
    "def material(string, brand):\n",
    "    list_of_materials = []\n",
    "    string_refined = str(string).lower()\n",
    "    for material_list in fabrics[brand]:\n",
    "        for material in material_list:\n",
    "            r = r'\\b%s\\b'%material\n",
    "            if re.search(r, string_refined):\n",
    "                list_of_materials.append(material_list[0])\n",
    "    if not list_of_materials:\n",
    "        if 'leather' in string_refined:\n",
    "            list_of_materials.append('leather')\n",
    "    if list_of_materials:\n",
    "        return str(list_of_materials)\n",
    "    return"
   ]
  },
  {
   "cell_type": "code",
   "execution_count": 7,
   "metadata": {},
   "outputs": [],
   "source": [
    "def material_refine(row, brand):\n",
    "    for string in [row['bags_name'], row['bags_description'], row['bags_fabric']]:\n",
    "        found_materials = material(string, brand)\n",
    "        if found_materials:\n",
    "            return found_materials\n",
    "    return 'Other'"
   ]
  },
  {
   "cell_type": "code",
   "execution_count": 8,
   "metadata": {},
   "outputs": [],
   "source": [
    "if brand in fabrics:\n",
    "    df['materials_list'] = df.apply(lambda x: material_refine(x, brand), axis = 1)"
   ]
  },
  {
   "cell_type": "code",
   "execution_count": 9,
   "metadata": {},
   "outputs": [],
   "source": [
    "def extract_price(text_string):\n",
    "    if type(text_string) == str:\n",
    "        try:\n",
    "            digits = re.search('\\$(.*)\\.\\d{2}$', text_string)[1]\n",
    "            digits = ''.join(digits.split(','))\n",
    "            return int(digits)\n",
    "        except:\n",
    "            return 'Error'\n",
    "    return"
   ]
  },
  {
   "cell_type": "code",
   "execution_count": 10,
   "metadata": {},
   "outputs": [],
   "source": [
    "df['bags_price_refined'] = df['bags_price'].map(lambda x: extract_price(x))\n",
    "df['sold_price_refined'] = df['bags_sold_for'].map(lambda x: extract_price(x))\n",
    "df['retail_price_refined'] = df['bags_retail_price'].map(lambda x: extract_price(x))"
   ]
  },
  {
   "cell_type": "code",
   "execution_count": 11,
   "metadata": {},
   "outputs": [],
   "source": [
    "def bag_id(bag_dict):\n",
    "    if type(bag_dict['bags_on_sale']) == str:\n",
    "        res = re.search('\\/(\\d{5,})\\/', bag_dict['bags_on_sale'])\n",
    "        if res:\n",
    "            return res[1]\n",
    "    elif type(bag_dict['bags_sold']) == str:\n",
    "        res = re.search('\\/(\\d{5,})\\/', bag_dict['bags_sold'])\n",
    "        if res:\n",
    "            return res[1]\n",
    "    else:\n",
    "        return"
   ]
  },
  {
   "cell_type": "code",
   "execution_count": 12,
   "metadata": {},
   "outputs": [],
   "source": [
    "df['id'] = df.apply(lambda x: bag_id(x), axis = 1)"
   ]
  },
  {
   "cell_type": "code",
   "execution_count": 13,
   "metadata": {},
   "outputs": [],
   "source": [
    "def popular(text):\n",
    "    number = str(text).split(' ')[0]\n",
    "    if number.isdigit():\n",
    "        return number\n",
    "    else:\n",
    "        return 0"
   ]
  },
  {
   "cell_type": "code",
   "execution_count": 14,
   "metadata": {},
   "outputs": [],
   "source": [
    "df['likes'] = df['bags_popular'].map(popular)"
   ]
  },
  {
   "cell_type": "code",
   "execution_count": 15,
   "metadata": {},
   "outputs": [],
   "source": [
    "def extract_size(text):\n",
    "    try:\n",
    "        l = float(re.search('(\\d*\\.*\\d*)\"L', text)[1])\n",
    "        w = float(re.search('(\\d*\\.*\\d*)\"W', text)[1])\n",
    "        h = float(re.search('(\\d*\\.*\\d*)\"H', text)[1])\n",
    "        return l, w, h\n",
    "    except:\n",
    "        return (100, 100, 100)"
   ]
  },
  {
   "cell_type": "code",
   "execution_count": 16,
   "metadata": {},
   "outputs": [],
   "source": [
    "def vector_distance(x, y):\n",
    "    if len(x) == len(y):\n",
    "        return sqrt(sum((x[i] - y[i])**2 for i in range(len(x))))\n",
    "    else:\n",
    "        raise Exception('Different dimension of vectors')"
   ]
  },
  {
   "cell_type": "code",
   "execution_count": 17,
   "metadata": {},
   "outputs": [],
   "source": [
    "def correct_size(text):\n",
    "    min_diff = 1000\n",
    "    correct_size = None\n",
    "    for size in sizes[brand]:\n",
    "        l, w, h, diff = sizes[brand][size]\n",
    "        L, W, H = extract_size(text)\n",
    "        cur_diff = min([vector_distance((L,W,H), c) for c in permutations([l, w, h])])\n",
    "        if cur_diff < diff and cur_diff < min_diff:\n",
    "            min_diff = cur_diff\n",
    "            correct_size = size\n",
    "    return correct_size"
   ]
  },
  {
   "cell_type": "code",
   "execution_count": 18,
   "metadata": {},
   "outputs": [],
   "source": [
    "#filter out incorrect sizes\n",
    "df['size'] = df.apply(lambda x: \n",
    "                 correct_size(x['bags_size']) or correct_size(x['bags_fabric']) or 'Other', axis = 1)"
   ]
  },
  {
   "cell_type": "code",
   "execution_count": 19,
   "metadata": {},
   "outputs": [
    {
     "data": {
      "text/plain": [
       "Pm       140246\n",
       "Other     24142\n",
       "Name: size, dtype: int64"
      ]
     },
     "execution_count": 19,
     "metadata": {},
     "output_type": "execute_result"
    }
   ],
   "source": [
    "df['size'].value_counts()"
   ]
  },
  {
   "cell_type": "code",
   "execution_count": 20,
   "metadata": {},
   "outputs": [],
   "source": [
    "df['id'] = df['id'].astype(int)\n",
    "df['likes'] = df['likes'].astype(int)\n",
    "df['bags_color'] = df['bags_color'].fillna('Other')"
   ]
  },
  {
   "cell_type": "code",
   "execution_count": 21,
   "metadata": {},
   "outputs": [
    {
     "name": "stdout",
     "output_type": "stream",
     "text": [
      "100%\n"
     ]
    }
   ],
   "source": [
    "print(\"{0:.0%}\".format(df.shape[0] / size_before))"
   ]
  },
  {
   "cell_type": "code",
   "execution_count": 22,
   "metadata": {},
   "outputs": [],
   "source": [
    "export_columns = ['bags_brand', 'id', 'sc_date', 'bags_color', 'bags_condition', 'materials_list', 'bags_price_refined',\n",
    "                 'sold_price_refined', 'retail_price_refined', 'likes', 'size']"
   ]
  },
  {
   "cell_type": "code",
   "execution_count": 23,
   "metadata": {},
   "outputs": [],
   "source": [
    "if brand == 'Gucci':\n",
    "    df = df[df['sc_date'].map(lambda x: datetime.date(2019,2,13)<=x<=datetime.date(2019,5,10))]\n"
   ]
  },
  {
   "cell_type": "code",
   "execution_count": 24,
   "metadata": {},
   "outputs": [],
   "source": [
    "df.reset_index()[export_columns].to_pickle('%s.pkl' % brand)"
   ]
  },
  {
   "cell_type": "code",
   "execution_count": 25,
   "metadata": {},
   "outputs": [],
   "source": [
    "# df.reset_index()[export_columns].to_csv('refined_data_example.csv')"
   ]
  },
  {
   "cell_type": "code",
   "execution_count": 26,
   "metadata": {},
   "outputs": [
    {
     "data": {
      "text/html": [
       "<div>\n",
       "<style scoped>\n",
       "    .dataframe tbody tr th:only-of-type {\n",
       "        vertical-align: middle;\n",
       "    }\n",
       "\n",
       "    .dataframe tbody tr th {\n",
       "        vertical-align: top;\n",
       "    }\n",
       "\n",
       "    .dataframe thead th {\n",
       "        text-align: right;\n",
       "    }\n",
       "</style>\n",
       "<table border=\"1\" class=\"dataframe\">\n",
       "  <thead>\n",
       "    <tr style=\"text-align: right;\">\n",
       "      <th></th>\n",
       "      <th>sc_date</th>\n",
       "      <th>id</th>\n",
       "    </tr>\n",
       "  </thead>\n",
       "  <tbody>\n",
       "    <tr>\n",
       "      <td>0</td>\n",
       "      <td>2019-02-11</td>\n",
       "      <td>1797</td>\n",
       "    </tr>\n",
       "    <tr>\n",
       "      <td>1</td>\n",
       "      <td>2019-02-12</td>\n",
       "      <td>1774</td>\n",
       "    </tr>\n",
       "    <tr>\n",
       "      <td>2</td>\n",
       "      <td>2019-02-13</td>\n",
       "      <td>1830</td>\n",
       "    </tr>\n",
       "    <tr>\n",
       "      <td>3</td>\n",
       "      <td>2019-02-14</td>\n",
       "      <td>1805</td>\n",
       "    </tr>\n",
       "    <tr>\n",
       "      <td>4</td>\n",
       "      <td>2019-02-15</td>\n",
       "      <td>1801</td>\n",
       "    </tr>\n",
       "    <tr>\n",
       "      <td>...</td>\n",
       "      <td>...</td>\n",
       "      <td>...</td>\n",
       "    </tr>\n",
       "    <tr>\n",
       "      <td>84</td>\n",
       "      <td>2019-05-07</td>\n",
       "      <td>1929</td>\n",
       "    </tr>\n",
       "    <tr>\n",
       "      <td>85</td>\n",
       "      <td>2019-05-08</td>\n",
       "      <td>1910</td>\n",
       "    </tr>\n",
       "    <tr>\n",
       "      <td>86</td>\n",
       "      <td>2019-05-09</td>\n",
       "      <td>1928</td>\n",
       "    </tr>\n",
       "    <tr>\n",
       "      <td>87</td>\n",
       "      <td>2019-05-10</td>\n",
       "      <td>1920</td>\n",
       "    </tr>\n",
       "    <tr>\n",
       "      <td>88</td>\n",
       "      <td>2019-05-11</td>\n",
       "      <td>1932</td>\n",
       "    </tr>\n",
       "  </tbody>\n",
       "</table>\n",
       "<p>89 rows × 2 columns</p>\n",
       "</div>"
      ],
      "text/plain": [
       "       sc_date    id\n",
       "0   2019-02-11  1797\n",
       "1   2019-02-12  1774\n",
       "2   2019-02-13  1830\n",
       "3   2019-02-14  1805\n",
       "4   2019-02-15  1801\n",
       "..         ...   ...\n",
       "84  2019-05-07  1929\n",
       "85  2019-05-08  1910\n",
       "86  2019-05-09  1928\n",
       "87  2019-05-10  1920\n",
       "88  2019-05-11  1932\n",
       "\n",
       "[89 rows x 2 columns]"
      ]
     },
     "execution_count": 26,
     "metadata": {},
     "output_type": "execute_result"
    }
   ],
   "source": [
    "pd.pivot_table(df, values='id', index='sc_date', aggfunc='count').reset_index().sort_values('sc_date')"
   ]
  },
  {
   "cell_type": "code",
   "execution_count": null,
   "metadata": {},
   "outputs": [],
   "source": []
  }
 ],
 "metadata": {
  "kernelspec": {
   "display_name": "Python 3",
   "language": "python",
   "name": "python3"
  },
  "language_info": {
   "codemirror_mode": {
    "name": "ipython",
    "version": 3
   },
   "file_extension": ".py",
   "mimetype": "text/x-python",
   "name": "python",
   "nbconvert_exporter": "python",
   "pygments_lexer": "ipython3",
   "version": "3.7.4"
  }
 },
 "nbformat": 4,
 "nbformat_minor": 2
}

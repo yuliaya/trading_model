{
 "cells": [
  {
   "cell_type": "code",
   "execution_count": 1,
   "metadata": {
    "collapsed": true
   },
   "outputs": [],
   "source": [
    "import pandas as pd\n",
    "import os\n",
    "import datetime\n",
    "import re\n",
    "import statsmodels.api as sm\n",
    "from math import sqrt\n",
    "from itertools import permutations"
   ]
  },
  {
   "cell_type": "code",
   "execution_count": 2,
   "metadata": {},
   "outputs": [],
   "source": [
    "brand = 'Saint Laurent'\n",
    "directory = '/Users/yulia/Desktop/chanel/SL_Sac_de_Jour_small'\n",
    "os.chdir(directory)"
   ]
  },
  {
   "cell_type": "code",
   "execution_count": 3,
   "metadata": {
    "collapsed": true
   },
   "outputs": [],
   "source": [
    "fabrics = {\n",
    "    'Chanel': [['lambskin', 'lamb', 'lamskin'], ['patent', 'vernis'], ['caviar', 'cavier'], ['calfskin', 'calf'], ['tweed'],\n",
    "               ['canvas'], ['velvet'], ['denim'], ['jersey'], ['suede'], ['goat skin', 'goatskin'], ['fabric'], ['python'],\n",
    "               ['cotton'], ['satin'], ['nylon'], ['ostrich'], ['snakeskin']],\n",
    "    'Fendi': ['Leather', 'Calfskin Leather', 'Calf Leather'],\n",
    "    'Gucci': [['calfskin', 'calf', 'calfakin'], ['velvet'], ['canvas'], ['jacquard'], ['velure']],\n",
    "    'Saint Laurent': [['calfskin', 'calf', 'calf-skin leather'], ['grained leather'], ['suede', 'suded'], ['crocodile', 'croc leather'],\n",
    "                     ['smooth'], ['patent'], ['lambskin']]\n",
    "    'Louis Vuitton': [['canvas'], ['epi leather', 'epi', 'epic'], ['patent leather', 'patent'], ['canvas leather'],\n",
    "                      ['vernis leather', 'vernis']]\n",
    "}\n",
    "\n",
    "sizes = {\n",
    "    'Chanel': (10, 3, 6.3, 5),\n",
    "    'Louis Vuitton': (12.6, 9.4, 6, 7),\n",
    "    'Saint Laurent': (12.5, 9.8, 6.4, 7)\n",
    "}"
   ]
  },
  {
   "cell_type": "code",
   "execution_count": 4,
   "metadata": {},
   "outputs": [
    {
     "name": "stderr",
     "output_type": "stream",
     "text": [
      "/Users/yulia/anaconda3/lib/python3.6/site-packages/pandas/core/frame.py:6692: FutureWarning: Sorting because non-concatenation axis is not aligned. A future version\n",
      "of pandas will change to not sort by default.\n",
      "\n",
      "To accept the future behavior, pass 'sort=False'.\n",
      "\n",
      "To retain the current behavior and silence the warning, pass 'sort=True'.\n",
      "\n",
      "  sort=sort)\n"
     ]
    }
   ],
   "source": [
    "df = pd.DataFrame()\n",
    "for file in [file for file in os.listdir() if file.endswith('.csv')]:\n",
    "    MONTH, DAY = int(re.search('\\_(\\d+)\\_(\\d+)', file)[1]), int(re.search('\\_(\\d+)\\_(\\d+)', file)[2])\n",
    "    df1 = pd.read_csv(file)\n",
    "    df1['sc_date'] = datetime.date(year=2019, month=MONTH, day=DAY)\n",
    "    df = pd.DataFrame(df.append(df1))"
   ]
  },
  {
   "cell_type": "markdown",
   "metadata": {},
   "source": [
    "# clean dataset"
   ]
  },
  {
   "cell_type": "code",
   "execution_count": 5,
   "metadata": {},
   "outputs": [],
   "source": [
    "df = df[df['bags_brand'] == brand]\n",
    "size_before = df.shape[0]"
   ]
  },
  {
   "cell_type": "code",
   "execution_count": 7,
   "metadata": {},
   "outputs": [
    {
     "data": {
      "text/plain": [
       "Leather                                                      17097\n",
       "Calfskin Leather                                              2820\n",
       "leather                                                       1693\n",
       "Grained Leather                                               1327\n",
       "Sac de Jour                                                    574\n",
       "suede                                                          431\n",
       "Calfskin                                                       431\n",
       "Suede Leather                                                  301\n",
       "12.5\"L x 6.5\"W x 10\"H                                          286\n",
       "Grained leather                                                221\n",
       "Crocodile Skin Leather                                         193\n",
       "Smooth Leather                                                 188\n",
       "Calf Leather                                                   177\n",
       "Sac De Jour Small Leopard Hair                                 175\n",
       "Suede                                                          175\n",
       "Suded                                                          174\n",
       "Patent Leather                                                 170\n",
       "Embossed Croc Leather                                          158\n",
       "12.5\"L x 6\"W x 9.5\"H                                           134\n",
       "Smooth lambskin                                                114\n",
       "12.5\"L x 10\"W x 6\"H                                            101\n",
       "grained leather                                                 88\n",
       "9.8\"L x 12.5\"W x 6.4\"H                                          88\n",
       "CROCODILE EMBOSSED LEATHER                                      88\n",
       "12.5\"L x 10\"W x 6.5\"H                                           88\n",
       "Leather/ croc details                                           88\n",
       "grain leather                                                   88\n",
       "Calf-Skin Leather                                               88\n",
       "Small Sac De Jour                                               88\n",
       "leather tweed                                                   88\n",
       "                                                             ...  \n",
       "Crocodile Embossed and Calfskin Leather                         81\n",
       "Embossed Calfskin                                               81\n",
       "Leather & Canvas                                                80\n",
       "smooth leather                                                  80\n",
       "12.5\"L x 6\"W x 10\"H                                             71\n",
       "12.5\"L x 6.5\"W x 9.75\"H                                         66\n",
       "Small Sac de Jour tote bag                                      61\n",
       "Textured Leather                                                48\n",
       "Leather And Suede                                               47\n",
       "Tweed/ Leather                                                  37\n",
       "Black                                                           33\n",
       "Red                                                             25\n",
       "Blue                                                            23\n",
       "Pebbled Leather                                                 17\n",
       "Pink                                                            14\n",
       "Sac de Jour Small                                               11\n",
       "Sac De Jour                                                     11\n",
       "Calf leather                                                     9\n",
       "Beige                                                            8\n",
       "Saint Laurent Sac De Jour Small Tote                             7\n",
       "Fushia                                                           7\n",
       "Classic Sac de Jour Small In Smooth Leather                      7\n",
       "Monogram Universite                                              7\n",
       "Sac de jour                                                      6\n",
       "12.5\"L x 6\"W x 10.75\"H                                           6\n",
       "Light Grey Light-grey                                            5\n",
       "Burgundy Red                                                     5\n",
       "YVES SAINT LAURENT Sac De Jour Small Satchel Shoulder Bag        1\n",
       "12.5\"L x 6\"W x 9.9\"H                                             1\n",
       "12\"L x 9\"W x 6\"H                                                 1\n",
       "Name: bags_fabric, Length: 103, dtype: int64"
      ]
     },
     "execution_count": 7,
     "metadata": {},
     "output_type": "execute_result"
    }
   ],
   "source": [
    "df['bags_fabric'].value_counts()"
   ]
  },
  {
   "cell_type": "code",
   "execution_count": 7,
   "metadata": {},
   "outputs": [],
   "source": [
    "def material(string, brand):\n",
    "    list_of_materials = []\n",
    "    string_refined = str(string).lower()\n",
    "    for material_list in fabrics[brand]:\n",
    "        for material in material_list:\n",
    "            r = r'\\b%s\\b'%material\n",
    "            if re.search(r, string_refined):\n",
    "                list_of_materials.append(material_list[0])\n",
    "    if not list_of_materials:\n",
    "        if 'leather' in string_refined:\n",
    "            list_of_materials.append('leather')\n",
    "    if list_of_materials:\n",
    "        return str(list_of_materials)\n",
    "    return"
   ]
  },
  {
   "cell_type": "code",
   "execution_count": 8,
   "metadata": {},
   "outputs": [],
   "source": [
    "def material_refine(row, brand):\n",
    "    for string in [row['bags_name'], row['bags_description'], row['bags_fabric']]:\n",
    "        found_materials = material(string, brand)\n",
    "        if found_materials:\n",
    "            return found_materials\n",
    "    return 'Other'"
   ]
  },
  {
   "cell_type": "code",
   "execution_count": 9,
   "metadata": {},
   "outputs": [],
   "source": [
    "if brand in fabrics:\n",
    "    df['materials_list'] = df.apply(lambda x: material_refine(x, brand), axis = 1)"
   ]
  },
  {
   "cell_type": "code",
   "execution_count": 10,
   "metadata": {
    "collapsed": true
   },
   "outputs": [],
   "source": [
    "def extract_price(text_string):\n",
    "    if type(text_string) == str:\n",
    "        try:\n",
    "            digits = re.search('\\$(.*)\\.\\d{2}$', text_string)[1]\n",
    "            digits = ''.join(digits.split(','))\n",
    "            return int(digits)\n",
    "        except:\n",
    "            return 'Error'\n",
    "    return"
   ]
  },
  {
   "cell_type": "code",
   "execution_count": 11,
   "metadata": {
    "collapsed": true
   },
   "outputs": [],
   "source": [
    "df['bags_price_refined'] = df['bags_price'].map(lambda x: extract_price(x))\n",
    "df['sold_price_refined'] = df['bags_sold_for'].map(lambda x: extract_price(x))\n",
    "df['retail_price_refined'] = df['bags_retail_price'].map(lambda x: extract_price(x))"
   ]
  },
  {
   "cell_type": "code",
   "execution_count": 12,
   "metadata": {
    "collapsed": true
   },
   "outputs": [],
   "source": [
    "def bag_id(bag_dict):\n",
    "    if type(bag_dict['bags_on_sale']) == str:\n",
    "        res = re.search('\\/(\\d{5,})\\/', bag_dict['bags_on_sale'])\n",
    "        if res:\n",
    "            return res[1]\n",
    "    elif type(bag_dict['bags_sold']) == str:\n",
    "        res = re.search('\\/(\\d{5,})\\/', bag_dict['bags_sold'])\n",
    "        if res:\n",
    "            return res[1]\n",
    "    else:\n",
    "        return"
   ]
  },
  {
   "cell_type": "code",
   "execution_count": 13,
   "metadata": {},
   "outputs": [
    {
     "ename": "ValueError",
     "evalue": "Cannot set a frame with no defined index and a value that cannot be converted to a Series",
     "output_type": "error",
     "traceback": [
      "\u001b[0;31m---------------------------------------------------------------------------\u001b[0m",
      "\u001b[0;31mValueError\u001b[0m                                Traceback (most recent call last)",
      "\u001b[0;32m~/anaconda3/lib/python3.6/site-packages/pandas/core/frame.py\u001b[0m in \u001b[0;36m_ensure_valid_index\u001b[0;34m(self, value)\u001b[0m\n\u001b[1;32m   3423\u001b[0m             \u001b[0;32mtry\u001b[0m\u001b[0;34m:\u001b[0m\u001b[0;34m\u001b[0m\u001b[0m\n\u001b[0;32m-> 3424\u001b[0;31m                 \u001b[0mvalue\u001b[0m \u001b[0;34m=\u001b[0m \u001b[0mSeries\u001b[0m\u001b[0;34m(\u001b[0m\u001b[0mvalue\u001b[0m\u001b[0;34m)\u001b[0m\u001b[0;34m\u001b[0m\u001b[0m\n\u001b[0m\u001b[1;32m   3425\u001b[0m             \u001b[0;32mexcept\u001b[0m \u001b[0;34m(\u001b[0m\u001b[0mValueError\u001b[0m\u001b[0;34m,\u001b[0m \u001b[0mNotImplementedError\u001b[0m\u001b[0;34m,\u001b[0m \u001b[0mTypeError\u001b[0m\u001b[0;34m)\u001b[0m\u001b[0;34m:\u001b[0m\u001b[0;34m\u001b[0m\u001b[0m\n",
      "\u001b[0;32m~/anaconda3/lib/python3.6/site-packages/pandas/core/series.py\u001b[0m in \u001b[0;36m__init__\u001b[0;34m(self, data, index, dtype, name, copy, fastpath)\u001b[0m\n\u001b[1;32m    263\u001b[0m \u001b[0;34m\u001b[0m\u001b[0m\n\u001b[0;32m--> 264\u001b[0;31m                 \u001b[0mdata\u001b[0m \u001b[0;34m=\u001b[0m \u001b[0mSingleBlockManager\u001b[0m\u001b[0;34m(\u001b[0m\u001b[0mdata\u001b[0m\u001b[0;34m,\u001b[0m \u001b[0mindex\u001b[0m\u001b[0;34m,\u001b[0m \u001b[0mfastpath\u001b[0m\u001b[0;34m=\u001b[0m\u001b[0;32mTrue\u001b[0m\u001b[0;34m)\u001b[0m\u001b[0;34m\u001b[0m\u001b[0m\n\u001b[0m\u001b[1;32m    265\u001b[0m \u001b[0;34m\u001b[0m\u001b[0m\n",
      "\u001b[0;32m~/anaconda3/lib/python3.6/site-packages/pandas/core/internals/managers.py\u001b[0m in \u001b[0;36m__init__\u001b[0;34m(self, block, axis, do_integrity_check, fastpath)\u001b[0m\n\u001b[1;32m   1480\u001b[0m         \u001b[0;32mif\u001b[0m \u001b[0;32mnot\u001b[0m \u001b[0misinstance\u001b[0m\u001b[0;34m(\u001b[0m\u001b[0mblock\u001b[0m\u001b[0;34m,\u001b[0m \u001b[0mBlock\u001b[0m\u001b[0;34m)\u001b[0m\u001b[0;34m:\u001b[0m\u001b[0;34m\u001b[0m\u001b[0m\n\u001b[0;32m-> 1481\u001b[0;31m             \u001b[0mblock\u001b[0m \u001b[0;34m=\u001b[0m \u001b[0mmake_block\u001b[0m\u001b[0;34m(\u001b[0m\u001b[0mblock\u001b[0m\u001b[0;34m,\u001b[0m \u001b[0mplacement\u001b[0m\u001b[0;34m=\u001b[0m\u001b[0mslice\u001b[0m\u001b[0;34m(\u001b[0m\u001b[0;36m0\u001b[0m\u001b[0;34m,\u001b[0m \u001b[0mlen\u001b[0m\u001b[0;34m(\u001b[0m\u001b[0maxis\u001b[0m\u001b[0;34m)\u001b[0m\u001b[0;34m)\u001b[0m\u001b[0;34m,\u001b[0m \u001b[0mndim\u001b[0m\u001b[0;34m=\u001b[0m\u001b[0;36m1\u001b[0m\u001b[0;34m)\u001b[0m\u001b[0;34m\u001b[0m\u001b[0m\n\u001b[0m\u001b[1;32m   1482\u001b[0m \u001b[0;34m\u001b[0m\u001b[0m\n",
      "\u001b[0;32m~/anaconda3/lib/python3.6/site-packages/pandas/core/internals/blocks.py\u001b[0m in \u001b[0;36mmake_block\u001b[0;34m(values, placement, klass, ndim, dtype, fastpath)\u001b[0m\n\u001b[1;32m   3094\u001b[0m \u001b[0;34m\u001b[0m\u001b[0m\n\u001b[0;32m-> 3095\u001b[0;31m     \u001b[0;32mreturn\u001b[0m \u001b[0mklass\u001b[0m\u001b[0;34m(\u001b[0m\u001b[0mvalues\u001b[0m\u001b[0;34m,\u001b[0m \u001b[0mndim\u001b[0m\u001b[0;34m=\u001b[0m\u001b[0mndim\u001b[0m\u001b[0;34m,\u001b[0m \u001b[0mplacement\u001b[0m\u001b[0;34m=\u001b[0m\u001b[0mplacement\u001b[0m\u001b[0;34m)\u001b[0m\u001b[0;34m\u001b[0m\u001b[0m\n\u001b[0m\u001b[1;32m   3096\u001b[0m \u001b[0;34m\u001b[0m\u001b[0m\n",
      "\u001b[0;32m~/anaconda3/lib/python3.6/site-packages/pandas/core/internals/blocks.py\u001b[0m in \u001b[0;36m__init__\u001b[0;34m(self, values, placement, ndim)\u001b[0m\n\u001b[1;32m   2630\u001b[0m         super(ObjectBlock, self).__init__(values, ndim=ndim,\n\u001b[0;32m-> 2631\u001b[0;31m                                           placement=placement)\n\u001b[0m\u001b[1;32m   2632\u001b[0m \u001b[0;34m\u001b[0m\u001b[0m\n",
      "\u001b[0;32m~/anaconda3/lib/python3.6/site-packages/pandas/core/internals/blocks.py\u001b[0m in \u001b[0;36m__init__\u001b[0;34m(self, values, placement, ndim)\u001b[0m\n\u001b[1;32m     86\u001b[0m                 \u001b[0;34m'Wrong number of items passed {val}, placement implies '\u001b[0m\u001b[0;34m\u001b[0m\u001b[0m\n\u001b[0;32m---> 87\u001b[0;31m                 '{mgr}'.format(val=len(self.values), mgr=len(self.mgr_locs)))\n\u001b[0m\u001b[1;32m     88\u001b[0m \u001b[0;34m\u001b[0m\u001b[0m\n",
      "\u001b[0;31mValueError\u001b[0m: Wrong number of items passed 21, placement implies 0",
      "\nDuring handling of the above exception, another exception occurred:\n",
      "\u001b[0;31mValueError\u001b[0m                                Traceback (most recent call last)",
      "\u001b[0;32m<ipython-input-13-cd4cacf3f818>\u001b[0m in \u001b[0;36m<module>\u001b[0;34m()\u001b[0m\n\u001b[0;32m----> 1\u001b[0;31m \u001b[0mdf\u001b[0m\u001b[0;34m[\u001b[0m\u001b[0;34m'id'\u001b[0m\u001b[0;34m]\u001b[0m \u001b[0;34m=\u001b[0m \u001b[0mdf\u001b[0m\u001b[0;34m.\u001b[0m\u001b[0mapply\u001b[0m\u001b[0;34m(\u001b[0m\u001b[0;32mlambda\u001b[0m \u001b[0mx\u001b[0m\u001b[0;34m:\u001b[0m \u001b[0mbag_id\u001b[0m\u001b[0;34m(\u001b[0m\u001b[0mx\u001b[0m\u001b[0;34m)\u001b[0m\u001b[0;34m,\u001b[0m \u001b[0maxis\u001b[0m \u001b[0;34m=\u001b[0m \u001b[0;36m1\u001b[0m\u001b[0;34m)\u001b[0m\u001b[0;34m\u001b[0m\u001b[0m\n\u001b[0m",
      "\u001b[0;32m~/anaconda3/lib/python3.6/site-packages/pandas/core/frame.py\u001b[0m in \u001b[0;36m__setitem__\u001b[0;34m(self, key, value)\u001b[0m\n\u001b[1;32m   3368\u001b[0m         \u001b[0;32melse\u001b[0m\u001b[0;34m:\u001b[0m\u001b[0;34m\u001b[0m\u001b[0m\n\u001b[1;32m   3369\u001b[0m             \u001b[0;31m# set column\u001b[0m\u001b[0;34m\u001b[0m\u001b[0;34m\u001b[0m\u001b[0m\n\u001b[0;32m-> 3370\u001b[0;31m             \u001b[0mself\u001b[0m\u001b[0;34m.\u001b[0m\u001b[0m_set_item\u001b[0m\u001b[0;34m(\u001b[0m\u001b[0mkey\u001b[0m\u001b[0;34m,\u001b[0m \u001b[0mvalue\u001b[0m\u001b[0;34m)\u001b[0m\u001b[0;34m\u001b[0m\u001b[0m\n\u001b[0m\u001b[1;32m   3371\u001b[0m \u001b[0;34m\u001b[0m\u001b[0m\n\u001b[1;32m   3372\u001b[0m     \u001b[0;32mdef\u001b[0m \u001b[0m_setitem_slice\u001b[0m\u001b[0;34m(\u001b[0m\u001b[0mself\u001b[0m\u001b[0;34m,\u001b[0m \u001b[0mkey\u001b[0m\u001b[0;34m,\u001b[0m \u001b[0mvalue\u001b[0m\u001b[0;34m)\u001b[0m\u001b[0;34m:\u001b[0m\u001b[0;34m\u001b[0m\u001b[0m\n",
      "\u001b[0;32m~/anaconda3/lib/python3.6/site-packages/pandas/core/frame.py\u001b[0m in \u001b[0;36m_set_item\u001b[0;34m(self, key, value)\u001b[0m\n\u001b[1;32m   3442\u001b[0m         \"\"\"\n\u001b[1;32m   3443\u001b[0m \u001b[0;34m\u001b[0m\u001b[0m\n\u001b[0;32m-> 3444\u001b[0;31m         \u001b[0mself\u001b[0m\u001b[0;34m.\u001b[0m\u001b[0m_ensure_valid_index\u001b[0m\u001b[0;34m(\u001b[0m\u001b[0mvalue\u001b[0m\u001b[0;34m)\u001b[0m\u001b[0;34m\u001b[0m\u001b[0m\n\u001b[0m\u001b[1;32m   3445\u001b[0m         \u001b[0mvalue\u001b[0m \u001b[0;34m=\u001b[0m \u001b[0mself\u001b[0m\u001b[0;34m.\u001b[0m\u001b[0m_sanitize_column\u001b[0m\u001b[0;34m(\u001b[0m\u001b[0mkey\u001b[0m\u001b[0;34m,\u001b[0m \u001b[0mvalue\u001b[0m\u001b[0;34m)\u001b[0m\u001b[0;34m\u001b[0m\u001b[0m\n\u001b[1;32m   3446\u001b[0m         \u001b[0mNDFrame\u001b[0m\u001b[0;34m.\u001b[0m\u001b[0m_set_item\u001b[0m\u001b[0;34m(\u001b[0m\u001b[0mself\u001b[0m\u001b[0;34m,\u001b[0m \u001b[0mkey\u001b[0m\u001b[0;34m,\u001b[0m \u001b[0mvalue\u001b[0m\u001b[0;34m)\u001b[0m\u001b[0;34m\u001b[0m\u001b[0m\n",
      "\u001b[0;32m~/anaconda3/lib/python3.6/site-packages/pandas/core/frame.py\u001b[0m in \u001b[0;36m_ensure_valid_index\u001b[0;34m(self, value)\u001b[0m\n\u001b[1;32m   3424\u001b[0m                 \u001b[0mvalue\u001b[0m \u001b[0;34m=\u001b[0m \u001b[0mSeries\u001b[0m\u001b[0;34m(\u001b[0m\u001b[0mvalue\u001b[0m\u001b[0;34m)\u001b[0m\u001b[0;34m\u001b[0m\u001b[0m\n\u001b[1;32m   3425\u001b[0m             \u001b[0;32mexcept\u001b[0m \u001b[0;34m(\u001b[0m\u001b[0mValueError\u001b[0m\u001b[0;34m,\u001b[0m \u001b[0mNotImplementedError\u001b[0m\u001b[0;34m,\u001b[0m \u001b[0mTypeError\u001b[0m\u001b[0;34m)\u001b[0m\u001b[0;34m:\u001b[0m\u001b[0;34m\u001b[0m\u001b[0m\n\u001b[0;32m-> 3426\u001b[0;31m                 raise ValueError('Cannot set a frame with no defined index '\n\u001b[0m\u001b[1;32m   3427\u001b[0m                                  \u001b[0;34m'and a value that cannot be converted to a '\u001b[0m\u001b[0;34m\u001b[0m\u001b[0m\n\u001b[1;32m   3428\u001b[0m                                  'Series')\n",
      "\u001b[0;31mValueError\u001b[0m: Cannot set a frame with no defined index and a value that cannot be converted to a Series"
     ]
    }
   ],
   "source": [
    "df['id'] = df.apply(lambda x: bag_id(x), axis = 1)"
   ]
  },
  {
   "cell_type": "code",
   "execution_count": 14,
   "metadata": {
    "collapsed": true
   },
   "outputs": [],
   "source": [
    "def popular(text):\n",
    "    number = str(text).split(' ')[0]\n",
    "    if number.isdigit():\n",
    "        return number\n",
    "    else:\n",
    "        return 0"
   ]
  },
  {
   "cell_type": "code",
   "execution_count": 15,
   "metadata": {
    "collapsed": true
   },
   "outputs": [],
   "source": [
    "df['likes'] = df['bags_popular'].map(popular)"
   ]
  },
  {
   "cell_type": "code",
   "execution_count": 16,
   "metadata": {},
   "outputs": [],
   "source": [
    "df['condition'] = df['bags_condition'].map({'New with tags': 3, 'Like new': 2, 'Gently used': 1})"
   ]
  },
  {
   "cell_type": "code",
   "execution_count": 17,
   "metadata": {
    "collapsed": true
   },
   "outputs": [],
   "source": [
    "def extract_size(text):\n",
    "    try:\n",
    "        l = float(re.search('(\\d*\\.*\\d*)\"L', text)[1])\n",
    "        w = float(re.search('(\\d*\\.*\\d*)\"W', text)[1])\n",
    "        h = float(re.search('(\\d*\\.*\\d*)\"H', text)[1])\n",
    "        return l, w, h\n",
    "    except:\n",
    "        return (100, 100, 100)"
   ]
  },
  {
   "cell_type": "code",
   "execution_count": 18,
   "metadata": {
    "collapsed": true
   },
   "outputs": [],
   "source": [
    "def vector_distance(x, y):\n",
    "    if len(x) == len(y):\n",
    "        return sqrt(sum((x[i] - y[i])**2 for i in range(len(x))))\n",
    "    else:\n",
    "        raise Exception('Different dimension of vectors')"
   ]
  },
  {
   "cell_type": "code",
   "execution_count": 19,
   "metadata": {
    "collapsed": true
   },
   "outputs": [],
   "source": [
    "def correct_size(text):\n",
    "    l, w, h, diff = sizes[brand]\n",
    "    L, W, H = extract_size(text)\n",
    "    return min([vector_distance((L,W,H), c) for c in permutations([l, w, h])]) < diff"
   ]
  },
  {
   "cell_type": "code",
   "execution_count": 20,
   "metadata": {},
   "outputs": [],
   "source": [
    "#filter out incorrect sizes\n",
    "if brand in sizes:\n",
    "    df = df[df.apply(lambda x: \n",
    "                     correct_size(x['bags_size']) or correct_size(x['bags_fabric']), axis = 1)\n",
    "           ]"
   ]
  },
  {
   "cell_type": "code",
   "execution_count": 21,
   "metadata": {},
   "outputs": [],
   "source": [
    "df['id'] = df['id'].astype(int)\n",
    "df['likes'] = df['likes'].astype(int)"
   ]
  },
  {
   "cell_type": "code",
   "execution_count": 22,
   "metadata": {},
   "outputs": [
    {
     "name": "stdout",
     "output_type": "stream",
     "text": [
      "86%\n"
     ]
    }
   ],
   "source": [
    "print(\"{0:.0%}\".format(df.shape[0] / size_before))"
   ]
  },
  {
   "cell_type": "code",
   "execution_count": 23,
   "metadata": {},
   "outputs": [
    {
     "data": {
      "text/plain": [
       "Alma Pm Brown Monogram Satchel                                    497\n",
       "Alma Pm Damier Ebene Satchel                                      439\n",
       "Alma Pm Monogram Satchel                                          365\n",
       "Alma Pm Brown Satchel                                             248\n",
       "Alma Multicolor White Murakami Alma Satchel                       174\n",
       "Alma Pm Bb with Adjustable Strap Handbag Ebene Damier Satchel      89\n",
       "Alma Pm (Ba0926) Monogram Satchel                                  89\n",
       "Alma Pm Damier Ebene Brown Red Satchel                             89\n",
       "Alma Pm M51230 Brown Satchel                                       88\n",
       "Alma Pm Damier Brown Satchel                                       88\n",
       "Alma Handle Multicolor Satchel                                     88\n",
       "Alma Pm Damier Satchel                                             88\n",
       "Brown Satchel                                                      88\n",
       "Alma **will Need New Zipper** Alma Monogram Satchel                87\n",
       "Alma Damier Ebene Pm Size Dark Brown Satchel                       87\n",
       "Alma Handbag Monogram Satchel                                      87\n",
       "Alma Pm Brown Damier Satchel                                       87\n",
       "Alma Size Pm Brown Satchel                                         87\n",
       "Alma Pm (Th1907) Monogram Satchel                                  87\n",
       "Alma Pm Brown Cancas Satchel                                       86\n",
       "Alma Pm Hobo Brown Monogram Satchel                                85\n",
       "Alma Pm De Satchel                                                 85\n",
       "Alma Pm Wine Red Satchel                                           85\n",
       "Alma Pm Lv 12 Mm Shoulder Strap Brown Satchel                      85\n",
       "Alma Pm 2016 Brown Satchel                                         85\n",
       "Alma Pm (Th0958) Brown Monogram Satchel                            85\n",
       "Alma Alma Monogram Satchel                                         84\n",
       "Alma Pm Amarante (Deep Burgundy / Black Color) Satchel             84\n",
       "Alma Pm Amarante Satchel                                           84\n",
       "Alma Lv Pm Monogram Satchel                                        84\n",
       "                                                                 ... \n",
       "Alma Pm (Sd0916) + Dustbag Brown Monogram Satchel                  83\n",
       "Alma Pm Brown Canvass Satchel                                      83\n",
       "Alma Pm Ebene Damier Brown Cowhide Satchel                         82\n",
       "Alma Lv Pm Black Satchel                                           82\n",
       "Alma Pm M51130 Brown Satchel                                       82\n",
       "Alma Stephen Graffiti Pm Rare Item Like Bb Black White Satchel     82\n",
       "Alma Lv Pm Ivory Satchel                                           81\n",
       "Alma Monogram Satchel                                              80\n",
       "Alma Pm (Vi0939) +dustbag Brown Monogram Satchel                   80\n",
       "Alma Pm Handle Brown Damier Ebene Satchel                          80\n",
       "Alma Pm Brown Damier Ebene Satchel                                 79\n",
       "Alma Size Pm Ebene Damier Satchel                                  78\n",
       "Alma Pm (Fl1021) Brown Monogram Satchel                            77\n",
       "Alma Neverfull Pm Like ? Ebene Damier Satchel                      76\n",
       "Alma Neverfull Pm Tote Monogram Satchel                            75\n",
       "Alma Pm; N53151 Brown Satchel                                      75\n",
       "Alma Pre-owned) Brown Monogram Satchel                             74\n",
       "Alma Pm (Vi0934) Dust Bag+padlock+ 1 Key Monogram Satchel          72\n",
       "Alma Cité Handbag Monogram Satchel                                 71\n",
       "Alma Speedy Neverfull Pm Handbag Like Monogram Satchel             69\n",
       "Alma W Pm Damier Ebene Monogram W/ Strap Brown Satchel             53\n",
       "W Alma Pm Damier Ebene Monogram W/ Strap Brown Satchel             36\n",
       "Pm Wine Alma Satchel                                               31\n",
       "Neverfull Speedy Alma Pm Handbag Like Monogram Satchel             13\n",
       "Cité Alma Handbag Monogram Satchel                                 13\n",
       "Neverfull Alma Pm Like ? Ebene Damier Satchel                      13\n",
       "Neverfull Alma Pm Tote Monogram Satchel                            12\n",
       "Alma Pm Satchel                                                    12\n",
       "Alma Pm In Damier Ebene Satchel                                     7\n",
       "Alma Monogram Pm Satchel                                            2\n",
       "Name: bags_name, Length: 64, dtype: int64"
      ]
     },
     "execution_count": 23,
     "metadata": {},
     "output_type": "execute_result"
    }
   ],
   "source": [
    "df[df['materials_list'] == 'Other']['bags_name'].value_counts()"
   ]
  },
  {
   "cell_type": "code",
   "execution_count": null,
   "metadata": {
    "collapsed": true
   },
   "outputs": [],
   "source": []
  },
  {
   "cell_type": "code",
   "execution_count": 24,
   "metadata": {
    "collapsed": true
   },
   "outputs": [],
   "source": [
    "export_columns = ['bags_brand', 'sc_date', 'bags_color', 'bags_condition', 'materials_list', 'bags_price_refined',\n",
    "                 'sold_price_refined', 'retail_price_refined', 'id', 'likes', 'condition']"
   ]
  },
  {
   "cell_type": "code",
   "execution_count": 25,
   "metadata": {
    "collapsed": true
   },
   "outputs": [],
   "source": [
    "df.reset_index()[export_columns].to_pickle('%s_dataset.pkl' % brand)"
   ]
  },
  {
   "cell_type": "code",
   "execution_count": null,
   "metadata": {
    "collapsed": true
   },
   "outputs": [],
   "source": []
  }
 ],
 "metadata": {
  "kernelspec": {
   "display_name": "Python 3",
   "language": "python",
   "name": "python3"
  },
  "language_info": {
   "codemirror_mode": {
    "name": "ipython",
    "version": 3
   },
   "file_extension": ".py",
   "mimetype": "text/x-python",
   "name": "python",
   "nbconvert_exporter": "python",
   "pygments_lexer": "ipython3",
   "version": "3.6.3"
  }
 },
 "nbformat": 4,
 "nbformat_minor": 2
}

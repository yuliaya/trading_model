{
 "cells": [
  {
   "cell_type": "code",
   "execution_count": 1,
   "metadata": {},
   "outputs": [],
   "source": [
    "import pandas as pd\n",
    "import os\n",
    "from collections import defaultdict\n",
    "from numpy import median\n",
    "import pickle"
   ]
  },
  {
   "cell_type": "code",
   "execution_count": 2,
   "metadata": {},
   "outputs": [],
   "source": [
    "data_dir = '../data/'\n",
    "median_prices = {}"
   ]
  },
  {
   "cell_type": "code",
   "execution_count": 3,
   "metadata": {},
   "outputs": [],
   "source": [
    "for file in [file for file in os.listdir(data_dir) if file.endswith('_refined.pkl')]:\n",
    "    brand = file.split('_')[0]\n",
    "    median_prices[brand] = defaultdict(list)\n",
    "    df = pd.read_pickle(data_dir+file)\n",
    "    for i, row in df[['size', 'materials_list', 'id', 'bags_condition', 'bags_color',\n",
    "                      'bags_price_refined']].drop_duplicates().iterrows():\n",
    "        keys = [(row['size'], row['materials_list'], row['bags_condition'], row['bags_color']),\n",
    "                (row['size'], row['materials_list'], row['bags_condition']),\n",
    "                (row['size'], row['materials_list']),\n",
    "                (row['size'], row['bags_condition']),\n",
    "                (row['materials_list'], row['bags_condition']),\n",
    "                (row['materials_list']),\n",
    "                (row['size'])]\n",
    "        for key in keys:\n",
    "            median_prices[brand][key].append(row['bags_price_refined'])"
   ]
  },
  {
   "cell_type": "code",
   "execution_count": 4,
   "metadata": {},
   "outputs": [],
   "source": [
    "# for brand in list(median_prices.keys()):\n",
    "#     for l in list(median_prices[brand].keys()):\n",
    "#         median_prices[brand][l] = median(median_prices[brand][l])"
   ]
  },
  {
   "cell_type": "code",
   "execution_count": 5,
   "metadata": {},
   "outputs": [],
   "source": [
    "with open(data_dir+'median_prices.pkl', 'wb') as f:\n",
    "    pickle.dump(median_prices, f)"
   ]
  },
  {
   "cell_type": "code",
   "execution_count": null,
   "metadata": {},
   "outputs": [],
   "source": []
  }
 ],
 "metadata": {
  "kernelspec": {
   "display_name": "Python 3",
   "language": "python",
   "name": "python3"
  },
  "language_info": {
   "codemirror_mode": {
    "name": "ipython",
    "version": 3
   },
   "file_extension": ".py",
   "mimetype": "text/x-python",
   "name": "python",
   "nbconvert_exporter": "python",
   "pygments_lexer": "ipython3",
   "version": "3.7.4"
  }
 },
 "nbformat": 4,
 "nbformat_minor": 2
}
